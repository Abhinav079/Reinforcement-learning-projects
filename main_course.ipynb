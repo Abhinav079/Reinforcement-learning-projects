{
 "cells": [
  {
   "cell_type": "markdown",
   "id": "5c45f3e0",
   "metadata": {},
   "source": [
    "# 1. Import dependencies"
   ]
  },
  {
   "cell_type": "code",
   "execution_count": 1,
   "id": "8b1373b0",
   "metadata": {},
   "outputs": [
    {
     "name": "stdout",
     "output_type": "stream",
     "text": [
      "Requirement already satisfied: tensorflow in e:\\anaconda1\\lib\\site-packages (2.15.0)\n",
      "Requirement already satisfied: gym-anytrading in e:\\anaconda1\\lib\\site-packages (2.0.0)\n",
      "Requirement already satisfied: gym in e:\\anaconda1\\lib\\site-packages (0.26.2)\n",
      "Requirement already satisfied: tensorflow-intel==2.15.0 in e:\\anaconda1\\lib\\site-packages (from tensorflow) (2.15.0)\n",
      "Requirement already satisfied: absl-py>=1.0.0 in e:\\anaconda1\\lib\\site-packages (from tensorflow-intel==2.15.0->tensorflow) (2.0.0)\n",
      "Requirement already satisfied: astunparse>=1.6.0 in e:\\anaconda1\\lib\\site-packages (from tensorflow-intel==2.15.0->tensorflow) (1.6.3)\n",
      "Requirement already satisfied: flatbuffers>=23.5.26 in e:\\anaconda1\\lib\\site-packages (from tensorflow-intel==2.15.0->tensorflow) (23.5.26)\n",
      "Requirement already satisfied: gast!=0.5.0,!=0.5.1,!=0.5.2,>=0.2.1 in e:\\anaconda1\\lib\\site-packages (from tensorflow-intel==2.15.0->tensorflow) (0.5.4)\n",
      "Requirement already satisfied: google-pasta>=0.1.1 in e:\\anaconda1\\lib\\site-packages (from tensorflow-intel==2.15.0->tensorflow) (0.2.0)\n",
      "Requirement already satisfied: h5py>=2.9.0 in e:\\anaconda1\\lib\\site-packages (from tensorflow-intel==2.15.0->tensorflow) (3.9.0)\n",
      "Requirement already satisfied: libclang>=13.0.0 in e:\\anaconda1\\lib\\site-packages (from tensorflow-intel==2.15.0->tensorflow) (16.0.6)\n",
      "Requirement already satisfied: ml-dtypes~=0.2.0 in e:\\anaconda1\\lib\\site-packages (from tensorflow-intel==2.15.0->tensorflow) (0.2.0)\n",
      "Requirement already satisfied: numpy<2.0.0,>=1.23.5 in e:\\anaconda1\\lib\\site-packages (from tensorflow-intel==2.15.0->tensorflow) (1.24.3)\n",
      "Requirement already satisfied: opt-einsum>=2.3.2 in e:\\anaconda1\\lib\\site-packages (from tensorflow-intel==2.15.0->tensorflow) (3.3.0)\n",
      "Requirement already satisfied: packaging in c:\\users\\admin\\appdata\\roaming\\python\\python311\\site-packages (from tensorflow-intel==2.15.0->tensorflow) (23.0)\n",
      "Requirement already satisfied: protobuf!=4.21.0,!=4.21.1,!=4.21.2,!=4.21.3,!=4.21.4,!=4.21.5,<5.0.0dev,>=3.20.3 in e:\\anaconda1\\lib\\site-packages (from tensorflow-intel==2.15.0->tensorflow) (4.23.4)\n",
      "Requirement already satisfied: setuptools in e:\\anaconda1\\lib\\site-packages (from tensorflow-intel==2.15.0->tensorflow) (68.0.0)\n",
      "Requirement already satisfied: six>=1.12.0 in c:\\users\\admin\\appdata\\roaming\\python\\python311\\site-packages (from tensorflow-intel==2.15.0->tensorflow) (1.16.0)\n",
      "Requirement already satisfied: termcolor>=1.1.0 in e:\\anaconda1\\lib\\site-packages (from tensorflow-intel==2.15.0->tensorflow) (2.4.0)\n",
      "Requirement already satisfied: typing-extensions>=3.6.6 in e:\\anaconda1\\lib\\site-packages (from tensorflow-intel==2.15.0->tensorflow) (4.7.1)\n",
      "Requirement already satisfied: wrapt<1.15,>=1.11.0 in e:\\anaconda1\\lib\\site-packages (from tensorflow-intel==2.15.0->tensorflow) (1.14.1)\n",
      "Requirement already satisfied: tensorflow-io-gcs-filesystem>=0.23.1 in e:\\anaconda1\\lib\\site-packages (from tensorflow-intel==2.15.0->tensorflow) (0.31.0)\n",
      "Requirement already satisfied: grpcio<2.0,>=1.24.3 in e:\\anaconda1\\lib\\site-packages (from tensorflow-intel==2.15.0->tensorflow) (1.60.0)\n",
      "Requirement already satisfied: tensorboard<2.16,>=2.15 in e:\\anaconda1\\lib\\site-packages (from tensorflow-intel==2.15.0->tensorflow) (2.15.1)\n",
      "Requirement already satisfied: tensorflow-estimator<2.16,>=2.15.0 in e:\\anaconda1\\lib\\site-packages (from tensorflow-intel==2.15.0->tensorflow) (2.15.0)\n",
      "Requirement already satisfied: keras<2.16,>=2.15.0 in e:\\anaconda1\\lib\\site-packages (from tensorflow-intel==2.15.0->tensorflow) (2.15.0)\n",
      "Requirement already satisfied: gymnasium>=0.29.1 in e:\\anaconda1\\lib\\site-packages (from gym-anytrading) (0.29.1)\n",
      "Requirement already satisfied: pandas>=0.24.2 in e:\\anaconda1\\lib\\site-packages (from gym-anytrading) (2.0.3)\n",
      "Requirement already satisfied: matplotlib>=3.1.1 in e:\\anaconda1\\lib\\site-packages (from gym-anytrading) (3.7.2)\n",
      "Requirement already satisfied: cloudpickle>=1.2.0 in e:\\anaconda1\\lib\\site-packages (from gym) (2.2.1)\n",
      "Requirement already satisfied: gym-notices>=0.0.4 in e:\\anaconda1\\lib\\site-packages (from gym) (0.0.8)\n",
      "Requirement already satisfied: farama-notifications>=0.0.1 in e:\\anaconda1\\lib\\site-packages (from gymnasium>=0.29.1->gym-anytrading) (0.0.4)\n",
      "Requirement already satisfied: contourpy>=1.0.1 in e:\\anaconda1\\lib\\site-packages (from matplotlib>=3.1.1->gym-anytrading) (1.0.5)\n",
      "Requirement already satisfied: cycler>=0.10 in e:\\anaconda1\\lib\\site-packages (from matplotlib>=3.1.1->gym-anytrading) (0.11.0)\n",
      "Requirement already satisfied: fonttools>=4.22.0 in e:\\anaconda1\\lib\\site-packages (from matplotlib>=3.1.1->gym-anytrading) (4.25.0)\n",
      "Requirement already satisfied: kiwisolver>=1.0.1 in e:\\anaconda1\\lib\\site-packages (from matplotlib>=3.1.1->gym-anytrading) (1.4.4)\n",
      "Requirement already satisfied: pillow>=6.2.0 in e:\\anaconda1\\lib\\site-packages (from matplotlib>=3.1.1->gym-anytrading) (10.0.1)\n",
      "Requirement already satisfied: pyparsing<3.1,>=2.3.1 in e:\\anaconda1\\lib\\site-packages (from matplotlib>=3.1.1->gym-anytrading) (3.0.9)\n",
      "Requirement already satisfied: python-dateutil>=2.7 in c:\\users\\admin\\appdata\\roaming\\python\\python311\\site-packages (from matplotlib>=3.1.1->gym-anytrading) (2.8.2)\n",
      "Requirement already satisfied: pytz>=2020.1 in e:\\anaconda1\\lib\\site-packages (from pandas>=0.24.2->gym-anytrading) (2023.3.post1)\n",
      "Requirement already satisfied: tzdata>=2022.1 in e:\\anaconda1\\lib\\site-packages (from pandas>=0.24.2->gym-anytrading) (2023.3)\n",
      "Requirement already satisfied: wheel<1.0,>=0.23.0 in e:\\anaconda1\\lib\\site-packages (from astunparse>=1.6.0->tensorflow-intel==2.15.0->tensorflow) (0.38.4)\n",
      "Requirement already satisfied: google-auth<3,>=1.6.3 in e:\\anaconda1\\lib\\site-packages (from tensorboard<2.16,>=2.15->tensorflow-intel==2.15.0->tensorflow) (2.25.1)\n",
      "Requirement already satisfied: google-auth-oauthlib<2,>=0.5 in e:\\anaconda1\\lib\\site-packages (from tensorboard<2.16,>=2.15->tensorflow-intel==2.15.0->tensorflow) (1.1.0)\n",
      "Requirement already satisfied: markdown>=2.6.8 in e:\\anaconda1\\lib\\site-packages (from tensorboard<2.16,>=2.15->tensorflow-intel==2.15.0->tensorflow) (3.4.1)\n",
      "Requirement already satisfied: requests<3,>=2.21.0 in e:\\anaconda1\\lib\\site-packages (from tensorboard<2.16,>=2.15->tensorflow-intel==2.15.0->tensorflow) (2.31.0)\n",
      "Requirement already satisfied: tensorboard-data-server<0.8.0,>=0.7.0 in e:\\anaconda1\\lib\\site-packages (from tensorboard<2.16,>=2.15->tensorflow-intel==2.15.0->tensorflow) (0.7.2)\n",
      "Requirement already satisfied: werkzeug>=1.0.1 in e:\\anaconda1\\lib\\site-packages (from tensorboard<2.16,>=2.15->tensorflow-intel==2.15.0->tensorflow) (2.2.3)\n",
      "Requirement already satisfied: cachetools<6.0,>=2.0.0 in e:\\anaconda1\\lib\\site-packages (from google-auth<3,>=1.6.3->tensorboard<2.16,>=2.15->tensorflow-intel==2.15.0->tensorflow) (5.3.2)\n",
      "Requirement already satisfied: pyasn1-modules>=0.2.1 in e:\\anaconda1\\lib\\site-packages (from google-auth<3,>=1.6.3->tensorboard<2.16,>=2.15->tensorflow-intel==2.15.0->tensorflow) (0.2.8)\n",
      "Requirement already satisfied: rsa<5,>=3.1.4 in e:\\anaconda1\\lib\\site-packages (from google-auth<3,>=1.6.3->tensorboard<2.16,>=2.15->tensorflow-intel==2.15.0->tensorflow) (4.9)\n",
      "Requirement already satisfied: requests-oauthlib>=0.7.0 in e:\\anaconda1\\lib\\site-packages (from google-auth-oauthlib<2,>=0.5->tensorboard<2.16,>=2.15->tensorflow-intel==2.15.0->tensorflow) (1.3.1)\n",
      "Requirement already satisfied: charset-normalizer<4,>=2 in e:\\anaconda1\\lib\\site-packages (from requests<3,>=2.21.0->tensorboard<2.16,>=2.15->tensorflow-intel==2.15.0->tensorflow) (2.0.4)\n",
      "Requirement already satisfied: idna<4,>=2.5 in e:\\anaconda1\\lib\\site-packages (from requests<3,>=2.21.0->tensorboard<2.16,>=2.15->tensorflow-intel==2.15.0->tensorflow) (3.4)\n",
      "Requirement already satisfied: urllib3<3,>=1.21.1 in e:\\anaconda1\\lib\\site-packages (from requests<3,>=2.21.0->tensorboard<2.16,>=2.15->tensorflow-intel==2.15.0->tensorflow) (1.26.16)\n",
      "Requirement already satisfied: certifi>=2017.4.17 in e:\\anaconda1\\lib\\site-packages (from requests<3,>=2.21.0->tensorboard<2.16,>=2.15->tensorflow-intel==2.15.0->tensorflow) (2023.7.22)\n",
      "Requirement already satisfied: MarkupSafe>=2.1.1 in e:\\anaconda1\\lib\\site-packages (from werkzeug>=1.0.1->tensorboard<2.16,>=2.15->tensorflow-intel==2.15.0->tensorflow) (2.1.1)\n",
      "Requirement already satisfied: pyasn1<0.5.0,>=0.4.6 in e:\\anaconda1\\lib\\site-packages (from pyasn1-modules>=0.2.1->google-auth<3,>=1.6.3->tensorboard<2.16,>=2.15->tensorflow-intel==2.15.0->tensorflow) (0.4.8)\n",
      "Requirement already satisfied: oauthlib>=3.0.0 in e:\\anaconda1\\lib\\site-packages (from requests-oauthlib>=0.7.0->google-auth-oauthlib<2,>=0.5->tensorboard<2.16,>=2.15->tensorflow-intel==2.15.0->tensorflow) (3.2.2)\n",
      "Note: you may need to restart the kernel to use updated packages.\n"
     ]
    }
   ],
   "source": [
    "%pip install tensorflow gym-anytrading gym"
   ]
  },
  {
   "cell_type": "code",
   "execution_count": 2,
   "id": "a821a6d5",
   "metadata": {},
   "outputs": [
    {
     "name": "stdout",
     "output_type": "stream",
     "text": [
      "Requirement already satisfied: stable-baselines3 in e:\\anaconda1\\lib\\site-packages (2.2.1)Note: you may need to restart the kernel to use updated packages.\n",
      "\n",
      "Requirement already satisfied: gymnasium<0.30,>=0.28.1 in e:\\anaconda1\\lib\\site-packages (from stable-baselines3) (0.29.1)\n",
      "Requirement already satisfied: numpy>=1.20 in e:\\anaconda1\\lib\\site-packages (from stable-baselines3) (1.24.3)\n",
      "Requirement already satisfied: torch>=1.13 in e:\\anaconda1\\lib\\site-packages (from stable-baselines3) (2.1.1)\n",
      "Requirement already satisfied: cloudpickle in e:\\anaconda1\\lib\\site-packages (from stable-baselines3) (2.2.1)\n",
      "Requirement already satisfied: pandas in e:\\anaconda1\\lib\\site-packages (from stable-baselines3) (2.0.3)\n",
      "Requirement already satisfied: matplotlib in e:\\anaconda1\\lib\\site-packages (from stable-baselines3) (3.7.2)\n",
      "Requirement already satisfied: typing-extensions>=4.3.0 in e:\\anaconda1\\lib\\site-packages (from gymnasium<0.30,>=0.28.1->stable-baselines3) (4.7.1)\n",
      "Requirement already satisfied: farama-notifications>=0.0.1 in e:\\anaconda1\\lib\\site-packages (from gymnasium<0.30,>=0.28.1->stable-baselines3) (0.0.4)\n",
      "Requirement already satisfied: filelock in e:\\anaconda1\\lib\\site-packages (from torch>=1.13->stable-baselines3) (3.9.0)\n",
      "Requirement already satisfied: sympy in e:\\anaconda1\\lib\\site-packages (from torch>=1.13->stable-baselines3) (1.11.1)\n",
      "Requirement already satisfied: networkx in e:\\anaconda1\\lib\\site-packages (from torch>=1.13->stable-baselines3) (3.1)\n",
      "Requirement already satisfied: jinja2 in e:\\anaconda1\\lib\\site-packages (from torch>=1.13->stable-baselines3) (3.1.2)\n",
      "Requirement already satisfied: fsspec in e:\\anaconda1\\lib\\site-packages (from torch>=1.13->stable-baselines3) (2023.4.0)\n",
      "Requirement already satisfied: contourpy>=1.0.1 in e:\\anaconda1\\lib\\site-packages (from matplotlib->stable-baselines3) (1.0.5)\n",
      "Requirement already satisfied: cycler>=0.10 in e:\\anaconda1\\lib\\site-packages (from matplotlib->stable-baselines3) (0.11.0)\n",
      "Requirement already satisfied: fonttools>=4.22.0 in e:\\anaconda1\\lib\\site-packages (from matplotlib->stable-baselines3) (4.25.0)\n",
      "Requirement already satisfied: kiwisolver>=1.0.1 in e:\\anaconda1\\lib\\site-packages (from matplotlib->stable-baselines3) (1.4.4)\n",
      "Requirement already satisfied: packaging>=20.0 in c:\\users\\admin\\appdata\\roaming\\python\\python311\\site-packages (from matplotlib->stable-baselines3) (23.0)\n",
      "Requirement already satisfied: pillow>=6.2.0 in e:\\anaconda1\\lib\\site-packages (from matplotlib->stable-baselines3) (10.0.1)\n",
      "Requirement already satisfied: pyparsing<3.1,>=2.3.1 in e:\\anaconda1\\lib\\site-packages (from matplotlib->stable-baselines3) (3.0.9)\n",
      "Requirement already satisfied: python-dateutil>=2.7 in c:\\users\\admin\\appdata\\roaming\\python\\python311\\site-packages (from matplotlib->stable-baselines3) (2.8.2)\n",
      "Requirement already satisfied: pytz>=2020.1 in e:\\anaconda1\\lib\\site-packages (from pandas->stable-baselines3) (2023.3.post1)\n",
      "Requirement already satisfied: tzdata>=2022.1 in e:\\anaconda1\\lib\\site-packages (from pandas->stable-baselines3) (2023.3)\n",
      "Requirement already satisfied: six>=1.5 in c:\\users\\admin\\appdata\\roaming\\python\\python311\\site-packages (from python-dateutil>=2.7->matplotlib->stable-baselines3) (1.16.0)\n",
      "Requirement already satisfied: MarkupSafe>=2.0 in e:\\anaconda1\\lib\\site-packages (from jinja2->torch>=1.13->stable-baselines3) (2.1.1)\n",
      "Requirement already satisfied: mpmath>=0.19 in e:\\anaconda1\\lib\\site-packages (from sympy->torch>=1.13->stable-baselines3) (1.3.0)\n"
     ]
    }
   ],
   "source": [
    "%pip install stable-baselines3"
   ]
  },
  {
   "cell_type": "code",
   "execution_count": 3,
   "id": "e660bdc2",
   "metadata": {},
   "outputs": [
    {
     "name": "stdout",
     "output_type": "stream",
     "text": [
      "Requirement already satisfied: stable-baselines3[atari,box2d] in e:\\anaconda1\\lib\\site-packages (2.2.1)\n",
      "Requirement already satisfied: gymnasium<0.30,>=0.28.1 in e:\\anaconda1\\lib\\site-packages (from stable-baselines3[atari,box2d]) (0.29.1)\n",
      "Requirement already satisfied: numpy>=1.20 in e:\\anaconda1\\lib\\site-packages (from stable-baselines3[atari,box2d]) (1.24.3)\n",
      "Requirement already satisfied: torch>=1.13 in e:\\anaconda1\\lib\\site-packages (from stable-baselines3[atari,box2d]) (2.1.1)\n",
      "Requirement already satisfied: cloudpickle in e:\\anaconda1\\lib\\site-packages (from stable-baselines3[atari,box2d]) (2.2.1)\n",
      "Requirement already satisfied: pandas in e:\\anaconda1\\lib\\site-packages (from stable-baselines3[atari,box2d]) (2.0.3)\n",
      "Requirement already satisfied: matplotlib in e:\\anaconda1\\lib\\site-packages (from stable-baselines3[atari,box2d]) (3.7.2)\n",
      "Requirement already satisfied: typing-extensions>=4.3.0 in e:\\anaconda1\\lib\\site-packages (from gymnasium<0.30,>=0.28.1->stable-baselines3[atari,box2d]) (4.7.1)\n",
      "Requirement already satisfied: farama-notifications>=0.0.1 in e:\\anaconda1\\lib\\site-packages (from gymnasium<0.30,>=0.28.1->stable-baselines3[atari,box2d]) (0.0.4)\n",
      "Requirement already satisfied: filelock in e:\\anaconda1\\lib\\site-packages (from torch>=1.13->stable-baselines3[atari,box2d]) (3.9.0)\n",
      "Requirement already satisfied: sympy in e:\\anaconda1\\lib\\site-packages (from torch>=1.13->stable-baselines3[atari,box2d]) (1.11.1)\n",
      "Requirement already satisfied: networkx in e:\\anaconda1\\lib\\site-packages (from torch>=1.13->stable-baselines3[atari,box2d]) (3.1)\n",
      "Requirement already satisfied: jinja2 in e:\\anaconda1\\lib\\site-packages (from torch>=1.13->stable-baselines3[atari,box2d]) (3.1.2)\n",
      "Requirement already satisfied: fsspec in e:\\anaconda1\\lib\\site-packages (from torch>=1.13->stable-baselines3[atari,box2d]) (2023.4.0)\n",
      "Requirement already satisfied: contourpy>=1.0.1 in e:\\anaconda1\\lib\\site-packages (from matplotlib->stable-baselines3[atari,box2d]) (1.0.5)\n",
      "Requirement already satisfied: cycler>=0.10 in e:\\anaconda1\\lib\\site-packages (from matplotlib->stable-baselines3[atari,box2d]) (0.11.0)\n",
      "Requirement already satisfied: fonttools>=4.22.0 in e:\\anaconda1\\lib\\site-packages (from matplotlib->stable-baselines3[atari,box2d]) (4.25.0)\n",
      "Requirement already satisfied: kiwisolver>=1.0.1 in e:\\anaconda1\\lib\\site-packages (from matplotlib->stable-baselines3[atari,box2d]) (1.4.4)\n",
      "Requirement already satisfied: packaging>=20.0 in c:\\users\\admin\\appdata\\roaming\\python\\python311\\site-packages (from matplotlib->stable-baselines3[atari,box2d]) (23.0)\n",
      "Requirement already satisfied: pillow>=6.2.0 in e:\\anaconda1\\lib\\site-packages (from matplotlib->stable-baselines3[atari,box2d]) (10.0.1)\n",
      "Requirement already satisfied: pyparsing<3.1,>=2.3.1 in e:\\anaconda1\\lib\\site-packages (from matplotlib->stable-baselines3[atari,box2d]) (3.0.9)\n",
      "Requirement already satisfied: python-dateutil>=2.7 in c:\\users\\admin\\appdata\\roaming\\python\\python311\\site-packages (from matplotlib->stable-baselines3[atari,box2d]) (2.8.2)\n",
      "Requirement already satisfied: pytz>=2020.1 in e:\\anaconda1\\lib\\site-packages (from pandas->stable-baselines3[atari,box2d]) (2023.3.post1)\n",
      "Requirement already satisfied: tzdata>=2022.1 in e:\\anaconda1\\lib\\site-packages (from pandas->stable-baselines3[atari,box2d]) (2023.3)\n",
      "Requirement already satisfied: six>=1.5 in c:\\users\\admin\\appdata\\roaming\\python\\python311\\site-packages (from python-dateutil>=2.7->matplotlib->stable-baselines3[atari,box2d]) (1.16.0)\n",
      "Requirement already satisfied: MarkupSafe>=2.0 in e:\\anaconda1\\lib\\site-packages (from jinja2->torch>=1.13->stable-baselines3[atari,box2d]) (2.1.1)\n",
      "Requirement already satisfied: mpmath>=0.19 in e:\\anaconda1\\lib\\site-packages (from sympy->torch>=1.13->stable-baselines3[atari,box2d]) (1.3.0)\n",
      "Note: you may need to restart the kernel to use updated packages.\n"
     ]
    },
    {
     "name": "stderr",
     "output_type": "stream",
     "text": [
      "WARNING: stable-baselines3 2.2.1 does not provide the extra 'atari'\n",
      "WARNING: stable-baselines3 2.2.1 does not provide the extra 'box2d'\n"
     ]
    }
   ],
   "source": [
    "pip install stable-baselines3[atari,box2d]\n"
   ]
  },
  {
   "cell_type": "code",
   "execution_count": 4,
   "id": "30198cef",
   "metadata": {},
   "outputs": [
    {
     "name": "stdout",
     "output_type": "stream",
     "text": [
      "Requirement already satisfied: stable-baselines3 in e:\\anaconda1\\lib\\site-packages (2.2.1)\n",
      "Requirement already satisfied: gymnasium<0.30,>=0.28.1 in e:\\anaconda1\\lib\\site-packages (from stable-baselines3) (0.29.1)\n",
      "Requirement already satisfied: numpy>=1.20 in e:\\anaconda1\\lib\\site-packages (from stable-baselines3) (1.24.3)\n",
      "Requirement already satisfied: torch>=1.13 in e:\\anaconda1\\lib\\site-packages (from stable-baselines3) (2.1.1)\n",
      "Requirement already satisfied: cloudpickle in e:\\anaconda1\\lib\\site-packages (from stable-baselines3) (2.2.1)\n",
      "Requirement already satisfied: pandas in e:\\anaconda1\\lib\\site-packages (from stable-baselines3) (2.0.3)\n",
      "Requirement already satisfied: matplotlib in e:\\anaconda1\\lib\\site-packages (from stable-baselines3) (3.7.2)\n",
      "Requirement already satisfied: typing-extensions>=4.3.0 in e:\\anaconda1\\lib\\site-packages (from gymnasium<0.30,>=0.28.1->stable-baselines3) (4.7.1)\n",
      "Requirement already satisfied: farama-notifications>=0.0.1 in e:\\anaconda1\\lib\\site-packages (from gymnasium<0.30,>=0.28.1->stable-baselines3) (0.0.4)\n",
      "Requirement already satisfied: filelock in e:\\anaconda1\\lib\\site-packages (from torch>=1.13->stable-baselines3) (3.9.0)\n",
      "Requirement already satisfied: sympy in e:\\anaconda1\\lib\\site-packages (from torch>=1.13->stable-baselines3) (1.11.1)\n",
      "Requirement already satisfied: networkx in e:\\anaconda1\\lib\\site-packages (from torch>=1.13->stable-baselines3) (3.1)\n",
      "Requirement already satisfied: jinja2 in e:\\anaconda1\\lib\\site-packages (from torch>=1.13->stable-baselines3) (3.1.2)\n",
      "Requirement already satisfied: fsspec in e:\\anaconda1\\lib\\site-packages (from torch>=1.13->stable-baselines3) (2023.4.0)\n",
      "Requirement already satisfied: contourpy>=1.0.1 in e:\\anaconda1\\lib\\site-packages (from matplotlib->stable-baselines3) (1.0.5)\n",
      "Requirement already satisfied: cycler>=0.10 in e:\\anaconda1\\lib\\site-packages (from matplotlib->stable-baselines3) (0.11.0)\n",
      "Requirement already satisfied: fonttools>=4.22.0 in e:\\anaconda1\\lib\\site-packages (from matplotlib->stable-baselines3) (4.25.0)\n",
      "Requirement already satisfied: kiwisolver>=1.0.1 in e:\\anaconda1\\lib\\site-packages (from matplotlib->stable-baselines3) (1.4.4)\n",
      "Requirement already satisfied: packaging>=20.0 in c:\\users\\admin\\appdata\\roaming\\python\\python311\\site-packages (from matplotlib->stable-baselines3) (23.0)\n",
      "Requirement already satisfied: pillow>=6.2.0 in e:\\anaconda1\\lib\\site-packages (from matplotlib->stable-baselines3) (10.0.1)\n",
      "Requirement already satisfied: pyparsing<3.1,>=2.3.1 in e:\\anaconda1\\lib\\site-packages (from matplotlib->stable-baselines3) (3.0.9)\n",
      "Requirement already satisfied: python-dateutil>=2.7 in c:\\users\\admin\\appdata\\roaming\\python\\python311\\site-packages (from matplotlib->stable-baselines3) (2.8.2)\n",
      "Requirement already satisfied: pytz>=2020.1 in e:\\anaconda1\\lib\\site-packages (from pandas->stable-baselines3) (2023.3.post1)\n",
      "Requirement already satisfied: tzdata>=2022.1 in e:\\anaconda1\\lib\\site-packages (from pandas->stable-baselines3) (2023.3)\n",
      "Requirement already satisfied: six>=1.5 in c:\\users\\admin\\appdata\\roaming\\python\\python311\\site-packages (from python-dateutil>=2.7->matplotlib->stable-baselines3) (1.16.0)\n",
      "Requirement already satisfied: MarkupSafe>=2.0 in e:\\anaconda1\\lib\\site-packages (from jinja2->torch>=1.13->stable-baselines3) (2.1.1)\n",
      "Requirement already satisfied: mpmath>=0.19 in e:\\anaconda1\\lib\\site-packages (from sympy->torch>=1.13->stable-baselines3) (1.3.0)\n",
      "Note: you may need to restart the kernel to use updated packages.\n"
     ]
    }
   ],
   "source": [
    "pip install --upgrade stable-baselines3"
   ]
  },
  {
   "cell_type": "code",
   "execution_count": 5,
   "id": "df8d5ec9",
   "metadata": {
    "scrolled": true
   },
   "outputs": [
    {
     "name": "stdout",
     "output_type": "stream",
     "text": [
      "Note: you may need to restart the kernel to use updated packages.\n"
     ]
    },
    {
     "name": "stderr",
     "output_type": "stream",
     "text": [
      "ERROR: Invalid requirement: 'stable-baselines3==2.1.0[atari,box2d]'\n"
     ]
    }
   ],
   "source": [
    "pip install stable-baselines3==2.1.0[atari,box2d]\n"
   ]
  },
  {
   "cell_type": "code",
   "execution_count": 1,
   "id": "1e6519cf",
   "metadata": {},
   "outputs": [
    {
     "name": "stdout",
     "output_type": "stream",
     "text": [
      "Collecting pyglot\n",
      "  Downloading pyglot-0.1.1.tar.gz (2.4 kB)\n",
      "  Preparing metadata (setup.py): started\n",
      "  Preparing metadata (setup.py): finished with status 'done'\n",
      "Collecting simplejson>=1.8 (from pyglot)\n",
      "  Obtaining dependency information for simplejson>=1.8 from https://files.pythonhosted.org/packages/b6/8e/3e12d122dfdf549a8d12eaf39954ee39f2027060aa38b63430f8ab3244e7/simplejson-3.19.2-cp311-cp311-win_amd64.whl.metadata\n",
      "  Downloading simplejson-3.19.2-cp311-cp311-win_amd64.whl.metadata (3.2 kB)\n",
      "Downloading simplejson-3.19.2-cp311-cp311-win_amd64.whl (75 kB)\n",
      "   ---------------------------------------- 0.0/75.3 kB ? eta -:--:--\n",
      "   ----- ---------------------------------- 10.2/75.3 kB ? eta -:--:--\n",
      "   ---------------- ----------------------- 30.7/75.3 kB 660.6 kB/s eta 0:00:01\n",
      "   ---------------- ----------------------- 30.7/75.3 kB 660.6 kB/s eta 0:00:01\n",
      "   ---------------- ----------------------- 30.7/75.3 kB 660.6 kB/s eta 0:00:01\n",
      "   ---------------- ----------------------- 30.7/75.3 kB 660.6 kB/s eta 0:00:01\n",
      "   --------------------- ------------------ 41.0/75.3 kB 140.3 kB/s eta 0:00:01\n",
      "   -------------------------------- ------- 61.4/75.3 kB 182.2 kB/s eta 0:00:01\n",
      "   ---------------------------------------- 75.3/75.3 kB 198.5 kB/s eta 0:00:00\n",
      "Building wheels for collected packages: pyglot\n",
      "  Building wheel for pyglot (setup.py): started\n",
      "  Building wheel for pyglot (setup.py): finished with status 'done'\n",
      "  Created wheel for pyglot: filename=pyglot-0.1.1-py3-none-any.whl size=2907 sha256=a375b3513a0fc6b1d18fd6830f907138300aeffe36bf825d4730a26d78486804\n",
      "  Stored in directory: c:\\users\\admin\\appdata\\local\\pip\\cache\\wheels\\b5\\25\\76\\ac9ba38cbed96d2bdefc80c6837909184010391303c5274c2e\n",
      "Successfully built pyglot\n",
      "Installing collected packages: simplejson, pyglot\n",
      "Successfully installed pyglot-0.1.1 simplejson-3.19.2\n"
     ]
    }
   ],
   "source": [
    "!pip install pyglot"
   ]
  },
  {
   "cell_type": "code",
   "execution_count": 6,
   "id": "1ec5f354",
   "metadata": {},
   "outputs": [],
   "source": [
    "import gym"
   ]
  },
  {
   "cell_type": "code",
   "execution_count": 7,
   "id": "ee8e23a9",
   "metadata": {},
   "outputs": [
    {
     "name": "stdout",
     "output_type": "stream",
     "text": [
      "WARNING:tensorflow:From e:\\Anaconda1\\Lib\\site-packages\\keras\\src\\losses.py:2976: The name tf.losses.sparse_softmax_cross_entropy is deprecated. Please use tf.compat.v1.losses.sparse_softmax_cross_entropy instead.\n",
      "\n"
     ]
    }
   ],
   "source": [
    "from stable_baselines3 import PPO"
   ]
  },
  {
   "cell_type": "code",
   "execution_count": 8,
   "id": "aacce6cf",
   "metadata": {},
   "outputs": [],
   "source": [
    "from stable_baselines3.common.vec_env import DummyVecEnv\n",
    "from stable_baselines3.common.evaluation import evaluate_policy"
   ]
  },
  {
   "cell_type": "markdown",
   "id": "c984f206",
   "metadata": {},
   "source": [
    "# 2. Load Environment"
   ]
  },
  {
   "cell_type": "code",
   "execution_count": 9,
   "id": "6c0ad8a8",
   "metadata": {},
   "outputs": [],
   "source": [
    "environment_name = 'CartPole-v1'\n",
    "env = gym.make(environment_name)"
   ]
  },
  {
   "cell_type": "code",
   "execution_count": 10,
   "id": "878af4d3",
   "metadata": {},
   "outputs": [
    {
     "data": {
      "text/plain": [
       "'CartPole-v1'"
      ]
     },
     "execution_count": 10,
     "metadata": {},
     "output_type": "execute_result"
    }
   ],
   "source": [
    "environment_name"
   ]
  },
  {
   "cell_type": "code",
   "execution_count": 11,
   "id": "0ae24924",
   "metadata": {},
   "outputs": [],
   "source": [
    "import pygame\n",
    "from pygame import gfxdraw"
   ]
  },
  {
   "cell_type": "code",
   "execution_count": 14,
   "id": "1487420d",
   "metadata": {},
   "outputs": [
    {
     "name": "stdout",
     "output_type": "stream",
     "text": [
      "Episode:1, Score:27.0\n",
      "Episode:2, Score:20.0\n",
      "Episode:3, Score:26.0\n",
      "Episode:4, Score:13.0\n",
      "Episode:5, Score:37.0\n",
      "Episode:6, Score:26.0\n",
      "Episode:7, Score:19.0\n",
      "Episode:8, Score:27.0\n",
      "Episode:9, Score:9.0\n",
      "Episode:10, Score:15.0\n"
     ]
    }
   ],
   "source": [
    "import gym\n",
    "\n",
    "env = gym.make(\"CartPole-v1\", render_mode=\"human\")\n",
    "\n",
    "episodes = 10\n",
    "for episode in range(1, episodes + 1):\n",
    "    state = env.reset()\n",
    "    done = False\n",
    "    score = 0\n",
    "\n",
    "    while not done:\n",
    "        env.render()\n",
    "        action = env.action_space.sample()\n",
    "        n_State, reward, done, info,_ = env.step(action)\n",
    "        score += reward\n",
    "\n",
    "    print('Episode:{}, Score:{}'.format(episode, score))\n",
    "\n",
    "env.close()\n"
   ]
  },
  {
   "cell_type": "code",
   "execution_count": null,
   "id": "dbb747fd",
   "metadata": {},
   "outputs": [],
   "source": []
  }
 ],
 "metadata": {
  "kernelspec": {
   "display_name": "Python 3 (ipykernel)",
   "language": "python",
   "name": "python3"
  },
  "language_info": {
   "codemirror_mode": {
    "name": "ipython",
    "version": 3
   },
   "file_extension": ".py",
   "mimetype": "text/x-python",
   "name": "python",
   "nbconvert_exporter": "python",
   "pygments_lexer": "ipython3",
   "version": "3.11.5"
  }
 },
 "nbformat": 4,
 "nbformat_minor": 5
}
